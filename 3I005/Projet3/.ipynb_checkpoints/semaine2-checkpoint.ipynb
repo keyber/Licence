{
 "cells": [
  {
   "cell_type": "markdown",
   "metadata": {},
   "source": [
    "<div style=\"text-align: right\"><small>pierre-henri.wuillemin@lip6.fr<br/>git clone https://gitlab.lip6.fr/phw/projetMdC2018.git\n",
    "<br/>last version : <b>30/03/2018</b><br/>2018-fev</small></div>\n",
    "# 3i005 -Projet 3 - Chaîne de Markov - semaine 2"
   ]
  },
  {
   "cell_type": "markdown",
   "metadata": {},
   "source": [
    "Le  but de cette semaine est l'étude du comportement asymptotique d'une chaîne de Markov."
   ]
  },
  {
   "cell_type": "markdown",
   "metadata": {},
   "source": [
    "Il s'agira donc de réaliser un ensemble de codes qui permettront de calculer l'ergodicité, la convergence suivant différentes méthodes :\n",
    "1. Simulation\n",
    "2. Convergence de $\\pi_n$\n",
    "3. Convergence de $T^{(n)}$\n",
    "4. Résolution directe\n",
    "\n",
    "Ainsi que d'étudier le comportement des différentes méthodes en fonction de la taille de la châine de Markov."
   ]
  },
  {
   "cell_type": "markdown",
   "metadata": {},
   "source": [
    "## Préambule technique\n",
    "Le projet prendra la forme d'un ensemble de fichiers `python` (**python3**) et un rapport. Il utilisera fortement la programmation objet. Même si ce n'est pas forcément très _pythonesque_, on s'attachera à ce sujet à définir une classe dans un fichier de même nom (sauf si spécification contraire). \n",
    "\n",
    "Ce notebook (`semaine2.ipynb`) est normalement directement exécutable néanmoins, si vous le préférez, vous pouvez également recopier vos codes de test dans un fichier python classique `semaine2.py`. Si vous êtes y êtes habitués ou si vous voulez vous y habituer, n'hésitez pas à utiliser des _frameworks_ de test comme [`nosetest`](http://pythontesting.net/framework/nose/nose-introduction/) , etc. Le rapport devra bien évidemment contenir un préambule technique pour expliquer vos choix et la manière d'exécuter vos codes.\n",
    "\n",
    "> L'énoncé du projet et les sources se trouvent dans le même repository gitlab. Il suffit donc de le mettre à jour :\n",
    "> ```bash\n",
    "> git pull --allow-unrelated-histories\n",
    "> ```\n",
    "\n",
    "Les codes source qui vous sont fournis sont \n",
    "- `CdM.py` qui contient une version à compléter de la classe `CdM`,\n",
    "- `FeuRouge.py` qui contient une version de la classe ` FeuRouge`,\n",
    "- `utils.py` qui contient quelques fonctions utilitaires.\n",
    "- `CdMSampler.py` qui contient une version à compléter de la classe de simulation `CdMSampler`\n",
    "- `coll*.py` qui contiennent des exemples de `Collector` (voir plus bas)."
   ]
  },
  {
   "cell_type": "markdown",
   "metadata": {},
   "source": [
    "## Simulation d'une chaîne de Markov\n",
    "\n",
    "Le premier outil pour étudier le comportement d'une chaîne de Markov est la simulation. La simulation consiste à générer une séquence d'états suivant les caractéristiques ($\\pi_0$ et $P(X_t|X_{t-1})$). Cette séquence 'assez longue' permet de calculer toute statistique associée à la CdM. Nous allons donc mettre en place un framework d'échantillonnage suivant la Chaîne de Markov de manière assez générique afin de pouvoir y insérer tout code de calcul le long de la simulation.\n",
    "\n",
    "Nous allons, pour cela, suivre (à peu près) le design pattern d'**`Observer`**. Ce design pattern consiste à indiquer qu'une classe (le **`Subject`**) est _observée_ par un ensemble d'**`Observer`** qui sont notifiés à chaque fois qu'un évènement intéressant se produit dans le **`Subject`**.\n",
    "\n",
    "![Design Pattern Observer (from wikipedia)](images/observerDesignPattern.png)\n",
    "<div style=\"text-align: center\"><small>--Observer design pattern from wikipedia--</small></div>\n",
    "\n"
   ]
  },
  {
   "cell_type": "markdown",
   "metadata": {},
   "source": [
    "Nous allons adapter ce pattern à notre cas : Le `Subject` sera notre simulateur qu'on appelera `CdMSampler` dans le fichier `CdMSampler.py`. Ce simulateur contient une liste d'objets de type `Collector` (nos `Observers`) qui ont pour but de recueillir l'information générée par le `CdMSampler`, de la traiter et, si nécessaire, de pouvoir influencer l'arrêt de la simulation.\n",
    "![Collectors hiérachie](images/hierarchyCollectors.png)\n",
    "\n",
    "Il suffira ensuite de définir des classes spécialisant `Collector` et effectuant les calculs ou les actions attendues. Le code des collectors `CollProgresser`, `CollTimeOut` et `CollSingleStateCounter` vous est fourni pour exemple."
   ]
  },
  {
   "cell_type": "markdown",
   "metadata": {},
   "source": [
    "### Question 9\n",
    "\n",
    "Compléter la classe CdMSampler. Il faut en particulier :\n",
    "\n",
    "1) Fournir le corps de la méthode de classe `CdMSampler.draw_from_distribution(distribution)`"
   ]
  },
  {
   "cell_type": "code",
   "execution_count": 1,
   "metadata": {},
   "outputs": [
    {
     "name": "stdout",
     "output_type": "stream",
     "text": [
      "Probabilité estimé de A : 0.3921\n"
     ]
    }
   ],
   "source": [
    "from CdMSampler import CdMSampler\n",
    "nbrA=0\n",
    "nbr_iteration=10000\n",
    "for i in range(nbr_iteration):\n",
    "    # draw_from_distribution est une méthode de classe : pas besoin de créer d'objet MdCSampler.\n",
    "    if CdMSampler.draw_from_distribution({\"A\":0.4,\"B\":0.6})==\"A\":\n",
    "        nbrA+=1\n",
    "print(\"Probabilité estimé de A : {}\".format(nbrA/nbr_iteration))"
   ]
  },
  {
   "cell_type": "markdown",
   "metadata": {},
   "source": [
    "2) Fournir le corps de la méthode `CdMSampler.run(max_iter)`. Elle appellera les `notify_*` pour communiquer avec les `collectors` et doit :\n",
    "> a. initialiser les `collectors` et la génération\n",
    ">\n",
    "> b. générer aléatoirement la séquence d'états en notifiant à chaque fois les `collecters` et en s'arrêtant si un `collector` le demande ou si le nombre d'itérations maximum est atteint. \n",
    ">\n",
    "> c. finaliser les `collectors`\n",
    ">\n",
    "> d. retourner le résultat calcule par `collect_results()`\n",
    "\n",
    "Par exemple :"
   ]
  },
  {
   "cell_type": "code",
   "execution_count": 2,
   "metadata": {},
   "outputs": [
    {
     "name": "stdout",
     "output_type": "stream",
     "text": [
      "- Sampler sans collector\n",
      "{'nbr_iterations': 10}\n",
      "\n",
      "- Sampler avec CollProgresser (voir CollProgresser.py)\n",
      "run(67): #..#..#..#..#..#..#..#. <-- stop with 67 iterations\n",
      "{'nbr_iterations': 67}\n",
      "\n",
      " - Sampler avec CollProgresser et CollSinleStateCounter (voir CollSingleStateCounter.py)\n",
      "run(150): #..#..#..#..#..#..#..#..#..#..#..#..#..#..#..#..#.. <-- stop with 150 iterations\n",
      "État <2> visité 3 fois\n",
      "État <5> visité 0 fois\n",
      "{'nbr_iterations': 150, 'count': {2: 3, 5: 0}}\n",
      "\n",
      " - Sampler avec CollProgresser, CollSinleStateCounter et ColTimeOut (voir CollTimeOut.py)\n",
      "run(150000000000): #..#..#..#..#..#..#..#..#..#..#..#..#..#..#..#..#..#..#..#..#..#..#..#..#..#..#..#..#..#..#..#..#..#..#..#..#..#..#..#..#..#..#..#..#..#..#..#..#..#..#..#..#..#..#..#..#..#..#..#..#..#..#..#..#..#..#..#..#..#..#..#..#..#..#..#..#..#..#..#..#..#..#..#..#..#..#..#..#..#..#..#..#..#..#..#..#..#..#..#..#..#..#..#..#..#..#..#..#..#..#..#..#..#..#..#..#..#..#..#..#..#..#..#..#..#..#..#..#..#..#..#..#..#..#..#..#..#..#..#..#..#..#..#..#..#..#..#..#..#..#..#..#..#..#..#..#..#..#..#..#..#..#..#..#..#..#..#..#..#..#..#..#..#..#..#..#..#..#..#..#..#..#..#..#..#..#..#..#..#..#..#..#..#..#..#..#..#..#..#..#..#..#..#..#..#..#..#..#..#..#..#..#..#..#..#..#..#..#..#..#..#..#..#..#..#..#..#..#..#..#..#..#..#..#..#..#..#..#..#..#..#..#..#..#..#..#..#..#..#..#..#..#..#..#..#..#..#..#..#..#..#..#..#..#..#..#..#..#..#..#..#..#..#..#..#..#..#..#..#..#..#..#..#..#..#..#..#..#..#..#..#..#..#..#..#..#..#..#..#..#..#..#..#..#..#..#..#..#..#..#..#..#..#..#..#..#..#..#..#..#..#..#..#..#..#..#..#..#..#..#..#..#..#..#..#..#..#..#..#..#..#..#..#..#..#..#..#..#..#..#..#..#..#..#..#..#..#..#..#..#..#..#..#..#..#..#..#..#..#..#..#..#..#..#..#..#..#..#..#..#..#..#..#..#..#..#..#..#..#..#..#..#..#..#..#..#..#..#..#..#..#..#..#..#..#..#..#..#..#..#..#..#..#..#..#..#..#..#..#..#..#..#..#..#..#..#..#..#..#..#..#..#..#..#..#..#..#..#..#..#..#..#..#..#..#..#..#..#..#..#..#..#..#..#..#..#..#..#..#..#..#..#..#..#..#..#..#..#..#..#..#..#..#..#..#..#..#..#..#..#..#..#..#..#..#..#..#..#..#..#..#..#..#..#..#..#..#..#..#..#..#..#..#..#..#..#..#..#..#..#..#..#..#..#..#..#..#..#..#..#..#..#..#..#..#..#..#..#..#..#..#..#..#..#..#..#..#..#..#..#..#..#..#..#..#..#..#..#..#..#..#..#..#..#..#..#..#..#..#..#..#..#..#..#..#..#..#..#..#..#..#..#..#..#..#..#..#..#..#..#..#..#..#..#..#..#..#..#..#..#..#..#..#..#..#..#..#..#..#..#..#..#..#..#..#..#..#..#..#..#..#..#..#..#..#..#..#..#..#..#..#..#..#..#..#..#..#..#..#..#..#..#..#..#..#..#..#..#..#..#..#..#..#..#..#..#..#..#..#..#..#..#..#..#..#..#..#..#..#..#..#..#..#..#..#..#..#..#..#..#..#..#..#..#..#..#..#..#..#..#..#..#..#..#..#..#..#..#..#..#..#..#..#..#..#..#..#..#..#..#..#..#..#..#..#..#..#..#..#..#..#..#..#..#..#..#..#..#..#..#..#..#..#..#..#..#..#..#..#..#..#..#..#..#..#..#..#..#..#..#..#..#..#..#..#..#..#..#..#..#..#..#..#..#..#..#..#..#..#..#..#..#..#..#..#..#..#..#..#..#..#..#..#..#..#..#..#..#..#..#..#..#..#..#..#..#..#..#..#..#..#..#..#..#..#..#..#..#..#..#..#..#..#..#..#..#..#..#..#..#..#..#..#..#..#..#..#..#..#..#..#..#..#..#..#..#..#..#..#..#..#..#..#..#..#..#..#..#..#..#..#..#..#..#..#..#..#..#..#..#..#..#..#..#..#..#..#..#..#..#..#..#..#..#..#..#..#..#..#..#..#..#..#..#..#..#..#..#..#..#..#..#..#..#..#..#..#..#..#..#..#..#..#..#..#..#..#..#..#..#..#..#..#..#..#..#..#..#..#..#..#..#..#..#..#..#..#..#..#..#..#..#..#..#..#..#..#..#..#..#..#..#..#..#..#..#..#..#..#..#..#..#..#..#..#..#..#..#..#..#..#..#..#..#..#..#..#..#..#..#..#..#..#..#..#..#..#..#..#..#..#..#..#..#"
     ]
    },
    {
     "name": "stderr",
     "output_type": "stream",
     "text": [
      "IOPub message rate exceeded.\n",
      "The notebook server will temporarily stop sending output\n",
      "to the client in order to avoid crashing it.\n",
      "To change this limit, set the config variable\n",
      "`--NotebookApp.iopub_msg_rate_limit`.\n",
      "\n",
      "Current values:\n",
      "NotebookApp.iopub_msg_rate_limit=1000.0 (msgs/sec)\n",
      "NotebookApp.rate_limit_window=3.0 (secs)\n",
      "\n"
     ]
    }
   ],
   "source": [
    "from CdMSampler import CdMSampler\n",
    "from MouseInMaze import MouseInMaze\n",
    "m=MouseInMaze()\n",
    "\n",
    "s=CdMSampler(m)\n",
    "print(\"- Sampler sans collector\")\n",
    "print(s.run(10))\n",
    "\n",
    "print(\"\\n- Sampler avec CollProgresser (voir CollProgresser.py)\")\n",
    "from CollProgresser import CollProgresser\n",
    "s.add_collector(CollProgresser(3,9))\n",
    "print(s.run(67))\n",
    "\n",
    "print(\"\\n - Sampler avec CollProgresser et CollSinleStateCounter (voir CollSingleStateCounter.py)\")\n",
    "from CollSingleStateCounter import CollSingleStateCounter\n",
    "s.add_collector(CollSingleStateCounter(m.get_states()[1]))\n",
    "s.add_collector(CollSingleStateCounter(m.get_states()[4]))\n",
    "print(s.run(150))\n",
    "\n",
    "print(\"\\n - Sampler avec CollProgresser, CollSinleStateCounter et ColTimeOut (voir CollTimeOut.py)\")\n",
    "from CollTimeOut import CollTimeOut\n",
    "s.add_collector(CollTimeOut(1)) # time out de 1 seconde\n",
    "print(s.run(150000000000))"
   ]
  },
  {
   "cell_type": "markdown",
   "metadata": {},
   "source": [
    "## Collectors\n",
    "\n",
    "Les `collectors` permettent d'effectuer des actions et des calculs le long de l'exécution de la simulation. Le deisgn pattern `Observer` permet de les cumuler. Par exemple, voici le code d'un `Collector` très simple ne faisant qu'afficher les états générés :"
   ]
  },
  {
   "cell_type": "code",
   "execution_count": 3,
   "metadata": {},
   "outputs": [
    {
     "name": "stdout",
     "output_type": "stream",
     "text": [
      "[debut]-> 12-> 4-> 3-> 1-> 2-> 4-> 3-> 6-> 6-> 6-> 6-> 6-> 6-> 6-> 6-> 6-> 6-> 6-> 6-> 6[fin : 20]\n"
     ]
    },
    {
     "data": {
      "text/plain": [
       "{'nbr_iterations': 20}"
      ]
     },
     "execution_count": 3,
     "metadata": {},
     "output_type": "execute_result"
    }
   ],
   "source": [
    "from Collector import Collector\n",
    "from CdMSampler import CdMSampler\n",
    "from MouseInMaze import MouseInMaze\n",
    "\n",
    "class BasicCollector(Collector):\n",
    "  def __init__(self):\n",
    "    pass\n",
    "\n",
    "  def initialize(self, cdm, max_iter):\n",
    "    print(\"[debut]\", end=\"\", flush=True)\n",
    "\n",
    "  def receive(self, cdm, iter, state):\n",
    "    if iter==1:\n",
    "        print(state, end=\"\", flush=True)\n",
    "    else:\n",
    "        print(\"-> \"+str(state), end=\"\", flush=True)\n",
    "    return False # True pour arrêter la génération\n",
    "\n",
    "  def finalize(self, cdm, iteration):\n",
    "    print(\"[fin : {}]\".format(iteration))\n",
    "\n",
    "  def get_results(self, cdm):\n",
    "    return None\n",
    "\n",
    "m=MouseInMaze()\n",
    "sampler=CdMSampler(m)\n",
    "sampler.add_collector(BasicCollector())\n",
    "sampler.run(20)"
   ]
  },
  {
   "cell_type": "markdown",
   "metadata": {},
   "source": [
    "La cellule ci-dessus exécutée plusieurs fois, donnera des trajectoires différentes de la chaîne de Markov `MouseInMaze`, toujours de taille 20."
   ]
  },
  {
   "cell_type": "markdown",
   "metadata": {},
   "source": [
    "### Question 10 \n",
    "Écrire dans `CollGetDistribution.py` une classe `CollGetDistribution` qui permet de calculer la probabilité de chaque état et qui arrête la simulation à la convergence. Pour tester la convergence, il s'agit de faire la différence entre 2 distributions de probabilité. On utilisera par exemple, la norme max. Le critère d'arrêt se fera par rapport à un argument `epsilon`.\n",
    "\n",
    "Par ailleurs, un autre argument `pas` indiquera de présenter la distribution courante toutes les `pas` itérations (en commençant par afficher l'itération initiale). Si `pas` est nul, il n'y aura pas d'affichage en cours de simulation."
   ]
  },
  {
   "cell_type": "code",
   "execution_count": 4,
   "metadata": {},
   "outputs": [
    {
     "name": "stdout",
     "output_type": "stream",
     "text": [
      "4 premières itérations de Monobestiole\n",
      "[debut]\n",
      "[1.0, 0.0, 0.0, 0.0, 0.0, 0.0, 0.0, 0.0, 0.0, 0.0, 0.0, 0.0, 0.0, 0.0, 0.0]\n",
      "[1.0, 0.0, 0.0, 0.0, 0.0, 0.0, 0.0, 0.0, 0.0, 0.0, 0.0, 0.0, 0.0, 0.0, 0.0]\n",
      "[1.0, 0.0, 0.0, 0.0, 0.0, 0.0, 0.0, 0.0, 0.0, 0.0, 0.0, 0.0, 0.0, 0.0, 0.0]\n",
      "[1.0, 0.0, 0.0, 0.0, 0.0, 0.0, 0.0, 0.0, 0.0, 0.0, 0.0, 0.0, 0.0, 0.0, 0.0]\n",
      "[1.0, 0.0, 0.0, 0.0, 0.0, 0.0, 0.0, 0.0, 0.0, 0.0, 0.0, 0.0, 0.0, 0.0, 0.0]\n"
     ]
    },
    {
     "data": {
      "text/plain": [
       "{0: [1.0,\n",
       "  0.0,\n",
       "  0.0,\n",
       "  0.0,\n",
       "  0.0,\n",
       "  0.0,\n",
       "  0.0,\n",
       "  0.0,\n",
       "  0.0,\n",
       "  0.0,\n",
       "  0.0,\n",
       "  0.0,\n",
       "  0.0,\n",
       "  0.0,\n",
       "  0.0],\n",
       " 'nbr_iterations': 4}"
      ]
     },
     "execution_count": 4,
     "metadata": {},
     "output_type": "execute_result"
    }
   ],
   "source": [
    "import matplotlib.pyplot as plt\n",
    "%matplotlib inline\n",
    "\n",
    "from CdMSampler import CdMSampler\n",
    "from MonoBestiole import MonoBestiole\n",
    "from CollGetDistribution import CollGetDistribution\n",
    "\n",
    "print(\"4 premières itérations de Monobestiole\")\n",
    "m=MonoBestiole(15,0.5,0.5)\n",
    "sampler=CdMSampler(m)\n",
    "sampler.add_collector(CollGetDistribution(epsilon=1e-5,pas=1))\n",
    "sampler.run(4)"
   ]
  },
  {
   "cell_type": "code",
   "execution_count": 5,
   "metadata": {},
   "outputs": [
    {
     "name": "stdout",
     "output_type": "stream",
     "text": [
      "Itérations de monobestiole jusque convergence\n",
      "[debut]\n",
      "[1.0, 0.0, 0.0, 0.0, 0.0, 0.0, 0.0, 0.0, 0.0, 0.0, 0.0, 0.0, 0.0, 0.0, 0.0]\n",
      "[0.33013349332533376, 0.22038898055097245, 0.1504424778761062, 0.10309484525773711, 0.06654667266636669, 0.04099795010249487, 0.026348682565871705, 0.01959902004899755, 0.01504924753762312, 0.009249537523123843, 0.0066496675166241685, 0.004849757512124394, 0.00279986000699965, 0.0020998950052497373, 0.0017499125043747813]\n",
      "[0.334441638959026, 0.22006949826254343, 0.1487462813429664, 0.1027974300642484, 0.06817329566760831, 0.043998900027499316, 0.028824279393015174, 0.01984950376240594, 0.013299667508312293, 0.0075748106297342565, 0.004974875628109297, 0.0032999175020624483, 0.0017999550011249719, 0.001224969375765606, 0.0009249768755781105]\n",
      "[0.3362110631489475, 0.22066298895018416, 0.14791420142997616, 0.10246495891735138, 0.06863218946350894, 0.0440992650122498, 0.028699521674638757, 0.019366343894268428, 0.012816453059115681, 0.007533207779870335, 0.004833252779120348, 0.0030832819453009115, 0.0016166397226712887, 0.001166647222546291, 0.0008999850002499958]\n",
      "Durée : 0.19374680519104004s\n"
     ]
    },
    {
     "data": {
      "text/plain": [
       "{0: [0.3358107904793428,\n",
       "  0.22020281045948303,\n",
       "  0.14741371528300184,\n",
       "  0.10206722233924112,\n",
       "  0.06851623386393044,\n",
       "  0.04463936448710619,\n",
       "  0.029533897030060482,\n",
       "  0.01973941564107965,\n",
       "  0.012938946228146722,\n",
       "  0.007658050732705444,\n",
       "  0.004829536906087323,\n",
       "  0.0029187855444889116,\n",
       "  0.0015797550627388438,\n",
       "  0.0012337134775674782,\n",
       "  0.0009177624650197093],\n",
       " 'duration': 0.19374680519104004,\n",
       " 'nbr_iterations': 66465}"
      ]
     },
     "execution_count": 5,
     "metadata": {},
     "output_type": "execute_result"
    }
   ],
   "source": [
    "from CollTimeOut import CollTimeOut\n",
    "\n",
    "print(\"Itérations de monobestiole jusque convergence\")\n",
    "m=MonoBestiole(15,0.4,0.6)\n",
    "sampler=CdMSampler(m)\n",
    "sampler.add_collector(CollGetDistribution(epsilon=1e-5,pas=20000))\n",
    "sampler.add_collector(CollTimeOut(10)) # time out de 10 seconde\n",
    "sampler.run(100000)"
   ]
  },
  {
   "cell_type": "markdown",
   "metadata": {},
   "source": [
    "## Convergence et ergodicité\n",
    "Une Chaîne de Markov est dite convergente si le processus de simulation ci-dessus converge vers une distribution $\\pi^*$. \n",
    "\n",
    "Dans ce cadre, une propriété importante des CdM est l'**ergodicité**. Une CdM ergodique converge, vers la même distribution $\\pi^*$ quelque soit la distribution initiale $\\pi_0$.\n",
    "\n",
    "Pour une CdM finie, ergodicité est équivalent à irréductible+apériodique.\n",
    "\n",
    "### Question 11\n",
    "Ajouter une méthode dans `CdM.py` une méthode `CdM.is_ergodic()` qui vérifie si une chaîne de Markov est ergodique."
   ]
  },
  {
   "cell_type": "markdown",
   "metadata": {},
   "source": [
    "### Question 12 \n",
    "Vérifier les propriétés d'ergodicité en analysant les résultats de simulation pour les Cdm \n",
    ":\n",
    "> 1. MouseInMaze\n",
    "> 2. MonoBestiole\n",
    "> 3. PeriodiCdM dont le code se trouve dans `PeriodicCdm.py`"
   ]
  },
  {
   "cell_type": "markdown",
   "metadata": {},
   "source": [
    "## Calcul de $\\pi*$\n",
    "En notant $\\pi_n$ la distribution de la CdM à l'état $n$, on se souvient qu'on a :\n",
    "$$\\pi_{n+1}=\\pi_t \\cdot M = \\pi_0 \\cdot M^n$$\n",
    "où $M$ est la matrice de transition de la CdM.\n",
    "\n",
    "\n",
    "Lorsqu'une chaîne de Markov est irréductible, outre la simulation, on a donc plusieurs méthodes qui permettent de calculer $\\pi$ :\n",
    "\n",
    "1. Convergence de $\\pi_n$ : en itérant l'équation $\\pi_{n+1}=\\pi_n\\cdot M$ et en s'arrêtant quand la distance entre $\\pi_n$ et $\\pi_{n+1}$ est assez faible.\n",
    "\n",
    "2. Convergence de $M^n$ : La suite des puissances de $M$ converge (vers quoi ?).\n",
    "\n",
    "3. Point fixe : $\\pi^*$ est un point fixe et vérifié donc $$\\pi^*=\\pi^*\\cdot M$$ $\\pi^*$ est donc un vecteur propre de $M$ pour la valeur propre $1$. "
   ]
  },
  {
   "cell_type": "markdown",
   "metadata": {},
   "source": [
    "### Question 13\n",
    "Écrire une classe `CdMConvergence` dans `CdMConvergence.py` qui calcule pour une CdM ergodique la distribution $\\pi^*$ selon les 4 méthodes en relevant pour chacune la valeur calculée pour $\\pi^*$, le nombre d'itérations nécessaires (si c'est un processus itératif), le temps nécessaire."
   ]
  },
  {
   "cell_type": "code",
   "execution_count": null,
   "metadata": {},
   "outputs": [],
   "source": []
  }
 ],
 "metadata": {
  "hide_input": false,
  "kernelspec": {
   "display_name": "Python 3",
   "language": "python",
   "name": "python3"
  },
  "language_info": {
   "codemirror_mode": {
    "name": "ipython",
    "version": 3
   },
   "file_extension": ".py",
   "mimetype": "text/x-python",
   "name": "python",
   "nbconvert_exporter": "python",
   "pygments_lexer": "ipython3",
   "version": "3.4.2"
  }
 },
 "nbformat": 4,
 "nbformat_minor": 2
}
