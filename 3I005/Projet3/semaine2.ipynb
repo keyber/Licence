{
 "cells": [
  {
   "cell_type": "markdown",
   "metadata": {},
   "source": [
    "<div style=\"text-align: right\"><small>pierre-henri.wuillemin@lip6.fr<br/>git clone https://gitlab.lip6.fr/phw/projetMdC2018.git\n",
    "<br/>last version : <b>30/03/2018</b><br/>2018-fev</small></div>\n",
    "# 3i005 -Projet 3 - Chaîne de Markov - semaine 2"
   ]
  },
  {
   "cell_type": "markdown",
   "metadata": {},
   "source": [
    "Le  but de cette semaine est l'étude du comportement asymptotique d'une chaîne de Markov."
   ]
  },
  {
   "cell_type": "markdown",
   "metadata": {},
   "source": [
    "Il s'agira donc de réaliser un ensemble de codes qui permettront de calculer l'ergodicité, la convergence suivant différentes méthodes :\n",
    "1. Simulation\n",
    "2. Convergence de $\\pi_n$\n",
    "3. Convergence de $T^{(n)}$\n",
    "4. Résolution directe\n",
    "\n",
    "Ainsi que d'étudier le comportement des différentes méthodes en fonction de la taille de la châine de Markov."
   ]
  },
  {
   "cell_type": "markdown",
   "metadata": {},
   "source": [
    "## Préambule technique\n",
    "Le projet prendra la forme d'un ensemble de fichiers `python` (**python3**) et un rapport. Il utilisera fortement la programmation objet. Même si ce n'est pas forcément très _pythonesque_, on s'attachera à ce sujet à définir une classe dans un fichier de même nom (sauf si spécification contraire). \n",
    "\n",
    "Ce notebook (`semaine2.ipynb`) est normalement directement exécutable néanmoins, si vous le préférez, vous pouvez également recopier vos codes de test dans un fichier python classique `semaine2.py`. Si vous êtes y êtes habitués ou si vous voulez vous y habituer, n'hésitez pas à utiliser des _frameworks_ de test comme [`nosetest`](http://pythontesting.net/framework/nose/nose-introduction/) , etc. Le rapport devra bien évidemment contenir un préambule technique pour expliquer vos choix et la manière d'exécuter vos codes.\n",
    "\n",
    "> L'énoncé du projet et les sources se trouvent dans le même repository gitlab. Il suffit donc de le mettre à jour :\n",
    "> ```bash\n",
    "> git pull --allow-unrelated-histories\n",
    "> ```\n",
    "\n",
    "Les codes source qui vous sont fournis sont \n",
    "- `CdM.py` qui contient une version à compléter de la classe `CdM`,\n",
    "- `FeuRouge.py` qui contient une version de la classe ` FeuRouge`,\n",
    "- `utils.py` qui contient quelques fonctions utilitaires.\n",
    "- `CdMSampler.py` qui contient une version à compléter de la classe de simulation `CdMSampler`\n",
    "- `coll*.py` qui contiennent des exemples de `Collector` (voir plus bas)."
   ]
  },
  {
   "cell_type": "markdown",
   "metadata": {},
   "source": [
    "## Simulation d'une chaîne de Markov\n",
    "\n",
    "Le premier outil pour étudier le comportement d'une chaîne de Markov est la simulation. La simulation consiste à générer une séquence d'états suivant les caractéristiques ($\\pi_0$ et $P(X_t|X_{t-1})$). Cette séquence 'assez longue' permet de calculer toute statistique associée à la CdM. Nous allons donc mettre en place un framework d'échantillonnage suivant la Chaîne de Markov de manière assez générique afin de pouvoir y insérer tout code de calcul le long de la simulation.\n",
    "\n",
    "Nous allons, pour cela, suivre (à peu près) le design pattern d'**`Observer`**. Ce design pattern consiste à indiquer qu'une classe (le **`Subject`**) est _observée_ par un ensemble d'**`Observer`** qui sont notifiés à chaque fois qu'un évènement intéressant se produit dans le **`Subject`**.\n",
    "\n",
    "![Design Pattern Observer (from wikipedia)](images/observerDesignPattern.png)\n",
    "<div style=\"text-align: center\"><small>--Observer design pattern from wikipedia--</small></div>\n",
    "\n"
   ]
  },
  {
   "cell_type": "markdown",
   "metadata": {},
   "source": [
    "Nous allons adapter ce pattern à notre cas : Le `Subject` sera notre simulateur qu'on appelera `CdMSampler` dans le fichier `CdMSampler.py`. Ce simulateur contient une liste d'objets de type `Collector` (nos `Observers`) qui ont pour but de recueillir l'information générée par le `CdMSampler`, de la traiter et, si nécessaire, de pouvoir influencer l'arrêt de la simulation.\n",
    "![Collectors hiérachie](images/hierarchyCollectors.png)\n",
    "\n",
    "Il suffira ensuite de définir des classes spécialisant `Collector` et effectuant les calculs ou les actions attendues. Le code des collectors `CollProgresser`, `CollTimeOut` et `CollSingleStateCounter` vous est fourni pour exemple."
   ]
  },
  {
   "cell_type": "markdown",
   "metadata": {},
   "source": [
    "### Question 9\n",
    "\n",
    "Compléter la classe CdMSampler. Il faut en particulier :\n",
    "\n",
    "1) Fournir le corps de la méthode de classe `CdMSampler.draw_from_distribution(distribution)`"
   ]
  },
  {
   "cell_type": "code",
   "execution_count": 1,
   "metadata": {},
   "outputs": [
    {
     "name": "stdout",
     "output_type": "stream",
     "text": [
      "Probabilité estimé de A : 0.3964\n"
     ]
    }
   ],
   "source": [
    "from CdMSampler import CdMSampler\n",
    "nbrA=0\n",
    "nbr_iteration=10000\n",
    "for i in range(nbr_iteration):\n",
    "    # draw_from_distribution est une méthode de classe : pas besoin de créer d'objet MdCSampler.\n",
    "    if CdMSampler.draw_from_distribution({\"A\":0.4,\"B\":0.6})==\"A\":\n",
    "        nbrA+=1\n",
    "print(\"Probabilité estimé de A : {}\".format(nbrA/nbr_iteration))"
   ]
  },
  {
   "cell_type": "markdown",
   "metadata": {},
   "source": [
    "2) Fournir le corps de la méthode `CdMSampler.run(max_iter)`. Elle appellera les `notify_*` pour communiquer avec les `collectors` et doit :\n",
    "> a. initialiser les `collectors` et la génération\n",
    ">\n",
    "> b. générer aléatoirement la séquence d'états en notifiant à chaque fois les `collecters` et en s'arrêtant si un `collector` le demande ou si le nombre d'itérations maximum est atteint. \n",
    ">\n",
    "> c. finaliser les `collectors`\n",
    ">\n",
    "> d. retourner le résultat calcule par `collect_results()`\n",
    "\n",
    "Par exemple :"
   ]
  },
  {
   "cell_type": "code",
   "execution_count": 2,
   "metadata": {},
   "outputs": [
    {
     "name": "stdout",
     "output_type": "stream",
     "text": [
      "- Sampler sans collector\n",
      "{'nbr_iterations': 10}\n",
      "\n",
      "- Sampler avec CollProgresser (voir CollProgresser.py)\n",
      "run(67): #..#..#..#..#..#..#..#. <-- stop with 67 iterations\n",
      "{'nbr_iterations': 67}\n",
      "\n",
      " - Sampler avec CollProgresser et CollSinleStateCounter (voir CollSingleStateCounter.py)\n",
      "run(150): #..#..#..#..#..#..#..#..#..#..#..#..#..#..#..#..#.. <-- stop with 150 iterations\n",
      "etat <2> visite 9 fois\n",
      "etat <5> visite 127 fois\n",
      "{'count': {2: 9, 5: 127}, 'nbr_iterations': 150}\n",
      "\n",
      " - Sampler avec CollProgresser, CollSinleStateCounter et ColTimeOut (voir CollTimeOut.py)\n",
      "run(150000000000): #..#..#..#..#..#..#..#..#..#..#..#..#..#..#..#..#..#..#..#..#..#..#..#..#..#..#..#..#..#..#..#..#..#..#..#..#..#..#..#..#..#..#..#..#..#..#..#..#..#..#..#..#..#..#..#..#..#..#..#..#..#..#..#..#..#..#..#..#..#..#..#..#..#..#..#..#..#..#..#..#..#..#..#..#..#..#..#..#..#..#..#..#..#..#..#..#..#..#..#..#..#..#..#..#..#..#..#..#..#..#..#..#..#..#..#..#..#..#..#..#..#..#..#..#..#..#..#..#..#..#..#..#..#..#..#..#..#..#..#..#..#..#..#..#..#..#..#..#..#..#..#..#..#..#..#..#..#..#..#..#..#..#..#..#..#..#..#..#..#..#..#..#..#..#..#..#..#..#..#..#..#..#..#..#..#..#..#..#..#..#..#..#..#..#..#..#..#..#..#..#..#..#..#..#..#..#..#..#..#..#..#..#..#..#..#..#..#..#..#..#..#..#..#..#..#..#..#..#..#..#..#..#..#..#..#..#..#..#..#..#..#..#..#..#..#..#..#..#..#..#..#..#..#..#..#..#..#..#..#..#..#..#..#..#..#..#..#..#..#..#..#..#..#..#..#..#..#.. [Time Out] <-- stop with 2500 iterations\n",
      "etat <2> visite 3 fois\n",
      "etat <5> visite 2492 fois\n",
      "Duree : 1.0465245246887207s\n",
      "{'count': {2: 3, 5: 2492}, 'duration': 1.0465245246887207, 'nbr_iterations': 2500}\n"
     ]
    }
   ],
   "source": [
    "from CdMSampler import CdMSampler\n",
    "from MouseInMaze import MouseInMaze\n",
    "m=MouseInMaze()\n",
    "\n",
    "s=CdMSampler(m)\n",
    "print(\"- Sampler sans collector\")\n",
    "print(s.run(10))\n",
    "\n",
    "print(\"\\n- Sampler avec CollProgresser (voir CollProgresser.py)\")\n",
    "from CollProgresser import CollProgresser\n",
    "s.add_collector(CollProgresser(3,9))\n",
    "print(s.run(67))\n",
    "\n",
    "print(\"\\n - Sampler avec CollProgresser et CollSinleStateCounter (voir CollSingleStateCounter.py)\")\n",
    "from CollSingleStateCounter import CollSingleStateCounter\n",
    "s.add_collector(CollSingleStateCounter(m.get_states()[1]))\n",
    "s.add_collector(CollSingleStateCounter(m.get_states()[4]))\n",
    "print(s.run(150))\n",
    "\n",
    "print(\"\\n - Sampler avec CollProgresser, CollSinleStateCounter et ColTimeOut (voir CollTimeOut.py)\")\n",
    "from CollTimeOut import CollTimeOut\n",
    "s.add_collector(CollTimeOut(1)) # time out de 1 seconde\n",
    "print(s.run(150000000000))"
   ]
  },
  {
   "cell_type": "markdown",
   "metadata": {},
   "source": [
    "## Collectors\n",
    "\n",
    "Les `collectors` permettent d'effectuer des actions et des calculs le long de l'exécution de la simulation. Le deisgn pattern `Observer` permet de les cumuler. Par exemple, voici le code d'un `Collector` très simple ne faisant qu'afficher les états générés :"
   ]
  },
  {
   "cell_type": "code",
   "execution_count": 3,
   "metadata": {},
   "outputs": [
    {
     "name": "stdout",
     "output_type": "stream",
     "text": [
      "[debut]-> 11-> 2-> 4-> 3-> 5-> 5-> 5-> 5-> 5-> 5-> 5-> 5-> 5-> 5-> 5-> 5-> 5-> 5-> 5-> 5[fin : 20]\n"
     ]
    },
    {
     "data": {
      "text/plain": [
       "{'nbr_iterations': 20}"
      ]
     },
     "execution_count": 3,
     "metadata": {},
     "output_type": "execute_result"
    }
   ],
   "source": [
    "from Collector import Collector\n",
    "from CdMSampler import CdMSampler\n",
    "from MouseInMaze import MouseInMaze\n",
    "\n",
    "class BasicCollector(Collector):\n",
    "  def __init__(self):\n",
    "    pass\n",
    "\n",
    "  def initialize(self, cdm, max_iter):\n",
    "    print(\"[debut]\", end=\"\", flush=True)\n",
    "\n",
    "  def receive(self, cdm, iter, state):\n",
    "    if iter==1:\n",
    "        print(state, end=\"\", flush=True)\n",
    "    else:\n",
    "        print(\"-> \"+str(state), end=\"\", flush=True)\n",
    "    return False # True pour arrêter la génération\n",
    "\n",
    "  def finalize(self, cdm, iteration):\n",
    "    print(\"[fin : {}]\".format(iteration))\n",
    "\n",
    "  def get_results(self, cdm):\n",
    "    return None\n",
    "\n",
    "m=MouseInMaze()\n",
    "sampler=CdMSampler(m)\n",
    "sampler.add_collector(BasicCollector())\n",
    "sampler.run(20)"
   ]
  },
  {
   "cell_type": "markdown",
   "metadata": {},
   "source": [
    "La cellule ci-dessus exécutée plusieurs fois, donnera des trajectoires différentes de la chaîne de Markov `MouseInMaze`, toujours de taille 20."
   ]
  },
  {
   "cell_type": "markdown",
   "metadata": {},
   "source": [
    "### Question 10 \n",
    "Écrire dans `CollGetDistribution.py` une classe `CollGetDistribution` qui permet de calculer la probabilité de chaque état et qui arrête la simulation à la convergence. Pour tester la convergence, il s'agit de faire la différence entre 2 distributions de probabilité. On utilisera par exemple, la norme max. Le critère d'arrêt se fera par rapport à un argument `epsilon`.\n",
    "\n",
    "Par ailleurs, un autre argument `pas` indiquera de présenter la distribution courante toutes les `pas` itérations (en commençant par afficher l'itération initiale). Si `pas` est nul, il n'y aura pas d'affichage en cours de simulation."
   ]
  },
  {
   "cell_type": "code",
   "execution_count": 4,
   "metadata": {
    "scrolled": false
   },
   "outputs": [
    {
     "name": "stdout",
     "output_type": "stream",
     "text": [
      "4 premières itérations de Monobestiole\n"
     ]
    },
    {
     "data": {
      "text/plain": [
       "{0: [0.0,\n",
       "  0.0,\n",
       "  0.0,\n",
       "  0.0,\n",
       "  0.0,\n",
       "  0.2,\n",
       "  0.4,\n",
       "  0.4,\n",
       "  0.0,\n",
       "  0.0,\n",
       "  0.0,\n",
       "  0.0,\n",
       "  0.0,\n",
       "  0.0,\n",
       "  0.0],\n",
       " 'nbr_iterations': 4}"
      ]
     },
     "execution_count": 4,
     "metadata": {},
     "output_type": "execute_result"
    },
    {
     "data": {
      "image/png": "[encoded data removed]",
      "text/plain": [
       "<matplotlib.figure.Figure at 0x7f12503bbfd0>"
      ]
     },
     "metadata": {},
     "output_type": "display_data"
    },
    {
     "data": {
      "image/png": "[encoded data removed]",
      "text/plain": [
       "<matplotlib.figure.Figure at 0x7f124e2f9e10>"
      ]
     },
     "metadata": {},
     "output_type": "display_data"
    },
    {
     "data": {
      "image/png": "[encoded data removed]",
      "text/plain": [
       "<matplotlib.figure.Figure at 0x7f124e2b5588>"
      ]
     },
     "metadata": {},
     "output_type": "display_data"
    },
    {
     "data": {
      "image/png": "[encoded data removed]",
      "text/plain": [
       "<matplotlib.figure.Figure at 0x7f124e2e8b70>"
      ]
     },
     "metadata": {},
     "output_type": "display_data"
    }
   ],
   "source": [
    "import matplotlib.pyplot as plt\n",
    "%matplotlib inline\n",
    "\n",
    "from CdMSampler import CdMSampler\n",
    "from MonoBestiole import MonoBestiole\n",
    "from CollGetDistribution import CollGetDistribution\n",
    "\n",
    "print(\"4 premières itérations de Monobestiole\")\n",
    "m=MonoBestiole(15,0.5,0.5)\n",
    "sampler=CdMSampler(m)\n",
    "sampler.add_collector(CollGetDistribution(epsilon=1e-5,pas=1))\n",
    "sampler.run(4)"
   ]
  },
  {
   "cell_type": "code",
   "execution_count": 5,
   "metadata": {},
   "outputs": [
    {
     "name": "stdout",
     "output_type": "stream",
     "text": [
      "Itérations de monobestiole jusque convergence\n",
      "Duree : 1.1705658435821533s\n"
     ]
    },
    {
     "data": {
      "text/plain": [
       "{0: [0.3224754258051185,\n",
       "  0.21966230776042742,\n",
       "  0.14961478289104702,\n",
       "  0.10062874516633705,\n",
       "  0.0683206895533843,\n",
       "  0.04604894175989609,\n",
       "  0.030758331611417777,\n",
       "  0.02131239484015704,\n",
       "  0.014567405614428668,\n",
       "  0.010434808277002095,\n",
       "  0.007113971130855743,\n",
       "  0.004339227204297901,\n",
       "  0.0024943176786610386,\n",
       "  0.001357853410868731,\n",
       "  0.0008707972961005992],\n",
       " 'duration': 1.1705658435821533,\n",
       " 'nbr_iterations': 67753}"
      ]
     },
     "execution_count": 5,
     "metadata": {},
     "output_type": "execute_result"
    },
    {
     "data": {
      "image/png": "[encoded data removed]",
      "text/plain": [
       "<matplotlib.figure.Figure at 0x7f124e27c278>"
      ]
     },
     "metadata": {},
     "output_type": "display_data"
    },
    {
     "data": {
      "image/png": "[encoded data removed]",
      "text/plain": [
       "<matplotlib.figure.Figure at 0x7f124e21fa90>"
      ]
     },
     "metadata": {},
     "output_type": "display_data"
    },
    {
     "data": {
      "image/png": "[encoded data removed]",
      "text/plain": [
       "<matplotlib.figure.Figure at 0x7f124e1f5940>"
      ]
     },
     "metadata": {},
     "output_type": "display_data"
    }
   ],
   "source": [
    "from CollTimeOut import CollTimeOut\n",
    "\n",
    "print(\"Itérations de monobestiole jusque convergence\")\n",
    "m=MonoBestiole(15,0.4,0.6)\n",
    "sampler=CdMSampler(m)\n",
    "sampler.add_collector(CollGetDistribution(epsilon=1e-5,pas=20000))\n",
    "sampler.add_collector(CollTimeOut(10)) # time out de 10 seconde\n",
    "sampler.run(100000)"
   ]
  },
  {
   "cell_type": "markdown",
   "metadata": {},
   "source": [
    "## Convergence et ergodicité\n",
    "Une Chaîne de Markov est dite convergente si le processus de simulation ci-dessus converge vers une distribution $\\pi^*$. \n",
    "\n",
    "Dans ce cadre, une propriété importante des CdM est l'**ergodicité**. Une CdM ergodique converge, vers la même distribution $\\pi^*$ quelque soit la distribution initiale $\\pi_0$.\n",
    "\n",
    "Pour une CdM finie, ergodicité est équivalent à irréductible+apériodique.\n",
    "\n",
    "### Question 11\n",
    "Ajouter une méthode dans `CdM.py` une méthode `CdM.is_ergodic()` qui vérifie si une chaîne de Markov est ergodique."
   ]
  },
  {
   "cell_type": "markdown",
   "metadata": {},
   "source": [
    "### Question 12 \n",
    "Vérifier les propriétés d'ergodicité en analysant les résultats de simulation pour les Cdm \n",
    ":\n",
    "> 1. MouseInMaze\n",
    "> 2. MonoBestiole\n",
    "> 3. PeriodiCdM dont le code se trouve dans `PeriodicCdm.py`"
   ]
  },
  {
   "cell_type": "markdown",
   "metadata": {},
   "source": [
    "## Calcul de $\\pi*$\n",
    "En notant $\\pi_n$ la distribution de la CdM à l'état $n$, on se souvient qu'on a :\n",
    "$$\\pi_{n+1}=\\pi_t \\cdot M = \\pi_0 \\cdot M^n$$\n",
    "où $M$ est la matrice de transition de la CdM.\n",
    "\n",
    "\n",
    "Lorsqu'une chaîne de Markov est irréductible, outre la simulation, on a donc plusieurs méthodes qui permettent de calculer $\\pi$ :\n",
    "\n",
    "1. Convergence de $\\pi_n$ : en itérant l'équation $\\pi_{n+1}=\\pi_n\\cdot M$ et en s'arrêtant quand la distance entre $\\pi_n$ et $\\pi_{n+1}$ est assez faible.\n",
    "\n",
    "2. Convergence de $M^n$ : La suite des puissances de $M$ converge (vers quoi ?).\n",
    "\n",
    "3. Point fixe : $\\pi^*$ est un point fixe et vérifié donc $$\\pi^*=\\pi^*\\cdot M$$ $\\pi^*$ est donc un vecteur propre de $M$ pour la valeur propre $1$. "
   ]
  },
  {
   "cell_type": "markdown",
   "metadata": {},
   "source": [
    "### Question 13\n",
    "Écrire une classe `CdMConvergence` dans `CdMConvergence.py` qui calcule pour une CdM ergodique la distribution $\\pi^*$ selon les 4 méthodes en relevant pour chacune la valeur calculée pour $\\pi^*$, le nombre d'itérations nécessaires (si c'est un processus itératif), le temps nécessaire."
   ]
  },
  {
   "cell_type": "code",
   "execution_count": null,
   "metadata": {},
   "outputs": [],
   "source": []
  }
 ],
 "metadata": {
  "hide_input": false,
  "kernelspec": {
   "display_name": "Python 3",
   "language": "python",
   "name": "python3"
  },
  "language_info": {
   "codemirror_mode": {
    "name": "ipython",
    "version": 3
   },
   "file_extension": ".py",
   "mimetype": "text/x-python",
   "name": "python",
   "nbconvert_exporter": "python",
   "pygments_lexer": "ipython3",
   "version": "3.4.2"
  }
 },
 "nbformat": 4,
 "nbformat_minor": 2
}
